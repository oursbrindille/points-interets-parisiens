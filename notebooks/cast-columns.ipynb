{
 "cells": [
  {
   "cell_type": "code",
   "execution_count": 15,
   "metadata": {},
   "outputs": [],
   "source": [
    "import pandas as pd"
   ]
  },
  {
   "cell_type": "code",
   "execution_count": 16,
   "metadata": {},
   "outputs": [],
   "source": [
    "df = pd.read_csv(\"../csv/concat/personnage.csv\")"
   ]
  },
  {
   "cell_type": "code",
   "execution_count": 17,
   "metadata": {},
   "outputs": [
    {
     "data": {
      "text/html": [
       "<div>\n",
       "<style scoped>\n",
       "    .dataframe tbody tr th:only-of-type {\n",
       "        vertical-align: middle;\n",
       "    }\n",
       "\n",
       "    .dataframe tbody tr th {\n",
       "        vertical-align: top;\n",
       "    }\n",
       "\n",
       "    .dataframe thead th {\n",
       "        text-align: right;\n",
       "    }\n",
       "</style>\n",
       "<table border=\"1\" class=\"dataframe\">\n",
       "  <thead>\n",
       "    <tr style=\"text-align: right;\">\n",
       "      <th></th>\n",
       "      <th>nom</th>\n",
       "      <th>dateOfBirth</th>\n",
       "      <th>placeOfBirthLabel</th>\n",
       "      <th>dateOfDeath</th>\n",
       "      <th>placeOfDeathLabel</th>\n",
       "      <th>positions</th>\n",
       "      <th>birthYear</th>\n",
       "      <th>deathYear</th>\n",
       "    </tr>\n",
       "  </thead>\n",
       "  <tbody>\n",
       "    <tr>\n",
       "      <td>0</td>\n",
       "      <td>Simon de Dammartin</td>\n",
       "      <td>1180-01-01T00:00:00Z</td>\n",
       "      <td>NaN</td>\n",
       "      <td>1239-09-28T00:00:00Z</td>\n",
       "      <td>NaN</td>\n",
       "      <td>NaN</td>\n",
       "      <td>1180.0</td>\n",
       "      <td>1239.0</td>\n",
       "    </tr>\n",
       "    <tr>\n",
       "      <td>1</td>\n",
       "      <td>Guillaume Sanguin</td>\n",
       "      <td>NaN</td>\n",
       "      <td>NaN</td>\n",
       "      <td>1442-02-23T00:00:00Z</td>\n",
       "      <td>NaN</td>\n",
       "      <td>NaN</td>\n",
       "      <td>NaN</td>\n",
       "      <td>1442.0</td>\n",
       "    </tr>\n",
       "    <tr>\n",
       "      <td>2</td>\n",
       "      <td>Nicolas Dipre</td>\n",
       "      <td>1460-01-01T00:00:00Z</td>\n",
       "      <td>Paris</td>\n",
       "      <td>1532-01-01T00:00:00Z</td>\n",
       "      <td>Paris</td>\n",
       "      <td>NaN</td>\n",
       "      <td>1460.0</td>\n",
       "      <td>1532.0</td>\n",
       "    </tr>\n",
       "    <tr>\n",
       "      <td>3</td>\n",
       "      <td>Guillaume Cousinot le Chancelier</td>\n",
       "      <td>1350-01-01T00:00:00Z</td>\n",
       "      <td>NaN</td>\n",
       "      <td>NaN</td>\n",
       "      <td>NaN</td>\n",
       "      <td>NaN</td>\n",
       "      <td>1350.0</td>\n",
       "      <td>NaN</td>\n",
       "    </tr>\n",
       "    <tr>\n",
       "      <td>4</td>\n",
       "      <td>Jean Cousin</td>\n",
       "      <td>1401-01-01T00:00:00Z</td>\n",
       "      <td>NaN</td>\n",
       "      <td>1599-01-01T00:00:00Z</td>\n",
       "      <td>NaN</td>\n",
       "      <td>NaN</td>\n",
       "      <td>1401.0</td>\n",
       "      <td>1599.0</td>\n",
       "    </tr>\n",
       "    <tr>\n",
       "      <td>...</td>\n",
       "      <td>...</td>\n",
       "      <td>...</td>\n",
       "      <td>...</td>\n",
       "      <td>...</td>\n",
       "      <td>...</td>\n",
       "      <td>...</td>\n",
       "      <td>...</td>\n",
       "      <td>...</td>\n",
       "    </tr>\n",
       "    <tr>\n",
       "      <td>489</td>\n",
       "      <td>Guillaume de Saint-Pathus</td>\n",
       "      <td>1250-01-01T00:00:00Z</td>\n",
       "      <td>NaN</td>\n",
       "      <td>1315-01-01T00:00:00Z</td>\n",
       "      <td>NaN</td>\n",
       "      <td>NaN</td>\n",
       "      <td>1250.0</td>\n",
       "      <td>1315.0</td>\n",
       "    </tr>\n",
       "    <tr>\n",
       "      <td>490</td>\n",
       "      <td>Guy II de Nesle</td>\n",
       "      <td>1350-01-01T00:00:00Z</td>\n",
       "      <td>NaN</td>\n",
       "      <td>1352-08-14T00:00:00Z</td>\n",
       "      <td>Mauron</td>\n",
       "      <td>NaN</td>\n",
       "      <td>1350.0</td>\n",
       "      <td>1352.0</td>\n",
       "    </tr>\n",
       "    <tr>\n",
       "      <td>491</td>\n",
       "      <td>Charles de Villiers de L'Isle-Adam</td>\n",
       "      <td>1482-01-01T00:00:00Z</td>\n",
       "      <td>NaN</td>\n",
       "      <td>1535-09-26T00:00:00Z</td>\n",
       "      <td>Saint-Maximin</td>\n",
       "      <td>évêque catholique, évêque diocésain, évêque de...</td>\n",
       "      <td>1482.0</td>\n",
       "      <td>1535.0</td>\n",
       "    </tr>\n",
       "    <tr>\n",
       "      <td>492</td>\n",
       "      <td>Guillaume de Clugny</td>\n",
       "      <td>NaN</td>\n",
       "      <td>NaN</td>\n",
       "      <td>1481-01-01T00:00:00Z</td>\n",
       "      <td>Tours</td>\n",
       "      <td>NaN</td>\n",
       "      <td>NaN</td>\n",
       "      <td>1481.0</td>\n",
       "    </tr>\n",
       "    <tr>\n",
       "      <td>493</td>\n",
       "      <td>Jean de La Barre</td>\n",
       "      <td>t1777096538</td>\n",
       "      <td>NaN</td>\n",
       "      <td>1534-03-01T00:00:00Z</td>\n",
       "      <td>NaN</td>\n",
       "      <td>NaN</td>\n",
       "      <td>NaN</td>\n",
       "      <td>1534.0</td>\n",
       "    </tr>\n",
       "  </tbody>\n",
       "</table>\n",
       "<p>494 rows × 8 columns</p>\n",
       "</div>"
      ],
      "text/plain": [
       "                                    nom           dateOfBirth  \\\n",
       "0                    Simon de Dammartin  1180-01-01T00:00:00Z   \n",
       "1                     Guillaume Sanguin                   NaN   \n",
       "2                         Nicolas Dipre  1460-01-01T00:00:00Z   \n",
       "3      Guillaume Cousinot le Chancelier  1350-01-01T00:00:00Z   \n",
       "4                           Jean Cousin  1401-01-01T00:00:00Z   \n",
       "..                                  ...                   ...   \n",
       "489           Guillaume de Saint-Pathus  1250-01-01T00:00:00Z   \n",
       "490                     Guy II de Nesle  1350-01-01T00:00:00Z   \n",
       "491  Charles de Villiers de L'Isle-Adam  1482-01-01T00:00:00Z   \n",
       "492                 Guillaume de Clugny                   NaN   \n",
       "493                    Jean de La Barre           t1777096538   \n",
       "\n",
       "    placeOfBirthLabel           dateOfDeath placeOfDeathLabel  \\\n",
       "0                 NaN  1239-09-28T00:00:00Z               NaN   \n",
       "1                 NaN  1442-02-23T00:00:00Z               NaN   \n",
       "2               Paris  1532-01-01T00:00:00Z             Paris   \n",
       "3                 NaN                   NaN               NaN   \n",
       "4                 NaN  1599-01-01T00:00:00Z               NaN   \n",
       "..                ...                   ...               ...   \n",
       "489               NaN  1315-01-01T00:00:00Z               NaN   \n",
       "490               NaN  1352-08-14T00:00:00Z            Mauron   \n",
       "491               NaN  1535-09-26T00:00:00Z     Saint-Maximin   \n",
       "492               NaN  1481-01-01T00:00:00Z             Tours   \n",
       "493               NaN  1534-03-01T00:00:00Z               NaN   \n",
       "\n",
       "                                             positions  birthYear  deathYear  \n",
       "0                                                  NaN     1180.0     1239.0  \n",
       "1                                                  NaN        NaN     1442.0  \n",
       "2                                                  NaN     1460.0     1532.0  \n",
       "3                                                  NaN     1350.0        NaN  \n",
       "4                                                  NaN     1401.0     1599.0  \n",
       "..                                                 ...        ...        ...  \n",
       "489                                                NaN     1250.0     1315.0  \n",
       "490                                                NaN     1350.0     1352.0  \n",
       "491  évêque catholique, évêque diocésain, évêque de...     1482.0     1535.0  \n",
       "492                                                NaN        NaN     1481.0  \n",
       "493                                                NaN        NaN     1534.0  \n",
       "\n",
       "[494 rows x 8 columns]"
      ]
     },
     "execution_count": 17,
     "metadata": {},
     "output_type": "execute_result"
    }
   ],
   "source": [
    "df"
   ]
  },
  {
   "cell_type": "code",
   "execution_count": 18,
   "metadata": {},
   "outputs": [
    {
     "data": {
      "text/plain": [
       "nom                   object\n",
       "dateOfBirth           object\n",
       "placeOfBirthLabel     object\n",
       "dateOfDeath           object\n",
       "placeOfDeathLabel     object\n",
       "positions             object\n",
       "birthYear            float64\n",
       "deathYear            float64\n",
       "dtype: object"
      ]
     },
     "execution_count": 18,
     "metadata": {},
     "output_type": "execute_result"
    }
   ],
   "source": [
    "df.dtypes"
   ]
  },
  {
   "cell_type": "code",
   "execution_count": 19,
   "metadata": {},
   "outputs": [],
   "source": [
    "regex = r'^(-?(?:[1-9][0-9]*)?[0-9]{4})-(1[0-2]|0[1-9])-(3[01]|0[1-9]|[12][0-9])T(2[0-3]|[01][0-9]):([0-5][0-9]):([0-5][0-9])(\\.[0-9]+)?(Z|[+-](?:2[0-3]|[01][0-9]):[0-5][0-9])?$'"
   ]
  },
  {
   "cell_type": "code",
   "execution_count": 20,
   "metadata": {},
   "outputs": [],
   "source": [
    "import dateutil.parser as dp\n",
    "\n",
    "import re\n",
    "match_iso8601 = re.compile(regex).match\n",
    "\n",
    "def validate_iso8601_us(str_val):\n",
    "    try:\n",
    "        if match_iso8601( str_val ) is not None:\n",
    "            return True\n",
    "    except:\n",
    "        pass\n",
    "    return False"
   ]
  },
  {
   "cell_type": "code",
   "execution_count": 21,
   "metadata": {},
   "outputs": [
    {
     "data": {
      "text/plain": [
       "True"
      ]
     },
     "execution_count": 21,
     "metadata": {},
     "output_type": "execute_result"
    }
   ],
   "source": [
    "validate_iso8601_us(\"0153-12-23T00:00:00Z\")"
   ]
  },
  {
   "cell_type": "code",
   "execution_count": 22,
   "metadata": {},
   "outputs": [],
   "source": [
    "df['dateOfBirth'] = df['dateOfBirth'].map(lambda x: x if validate_iso8601_us(x) else None)\n",
    "df['dateOfDeath'] = df['dateOfDeath'].map(lambda x: x if validate_iso8601_us(x) else None)\n"
   ]
  },
  {
   "cell_type": "code",
   "execution_count": 23,
   "metadata": {},
   "outputs": [],
   "source": [
    "df.to_csv(\"../csv/concat/personnage.csv\", index=False)"
   ]
  },
  {
   "cell_type": "code",
   "execution_count": null,
   "metadata": {},
   "outputs": [],
   "source": []
  }
 ],
 "metadata": {
  "kernelspec": {
   "display_name": "Python 3",
   "language": "python",
   "name": "python3"
  },
  "language_info": {
   "codemirror_mode": {
    "name": "ipython",
    "version": 3
   },
   "file_extension": ".py",
   "mimetype": "text/x-python",
   "name": "python",
   "nbconvert_exporter": "python",
   "pygments_lexer": "ipython3",
   "version": "3.7.4"
  }
 },
 "nbformat": 4,
 "nbformat_minor": 2
}
